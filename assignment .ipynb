{
 "cells": [
  {
   "cell_type": "code",
   "execution_count": 53,
   "id": "fa2b286f-dc4c-4dee-ba98-a4bb52060fd0",
   "metadata": {},
   "outputs": [],
   "source": [
    "import pandas as pd\n",
    "from sklearn.preprocessing import LabelEncoder, MinMaxScaler\n",
    "from sklearn.linear_model import LinearRegression\n",
    "from sklearn.model_selection import cross_val_score, KFold\n",
    "from sklearn.metrics import r2_score \n",
    "import numpy as np"
   ]
  },
  {
   "cell_type": "code",
   "execution_count": 3,
   "id": "e39e2f22-1047-47e8-84a8-0f0ce7eddfdd",
   "metadata": {
    "scrolled": true
   },
   "outputs": [
    {
     "name": "stdout",
     "output_type": "stream",
     "text": [
      "   MinTemp  MaxTemp  Rainfall  Evaporation  Sunshine WindGustDir  \\\n",
      "0      8.0     24.3       0.0          3.4       6.3          NW   \n",
      "1     14.0     26.9       3.6          4.4       9.7         ENE   \n",
      "2     13.7     23.4       3.6          5.8       3.3          NW   \n",
      "3     13.3     15.5      39.8          7.2       9.1          NW   \n",
      "4      7.6     16.1       2.8          5.6      10.6         SSE   \n",
      "\n",
      "   WindGustSpeed WindDir9am WindDir3pm  WindSpeed9am  ...  Humidity3pm  \\\n",
      "0           30.0         SW         NW           6.0  ...           29   \n",
      "1           39.0          E          W           4.0  ...           36   \n",
      "2           85.0          N        NNE           6.0  ...           69   \n",
      "3           54.0        WNW          W          30.0  ...           56   \n",
      "4           50.0        SSE        ESE          20.0  ...           49   \n",
      "\n",
      "   Pressure9am  Pressure3pm  Cloud9am  Cloud3pm  Temp9am  Temp3pm  RainToday  \\\n",
      "0       1019.7       1015.0         7         7     14.4     23.6         No   \n",
      "1       1012.4       1008.4         5         3     17.5     25.7        Yes   \n",
      "2       1009.5       1007.2         8         7     15.4     20.2        Yes   \n",
      "3       1005.5       1007.0         2         7     13.5     14.1        Yes   \n",
      "4       1018.3       1018.5         7         7     11.1     15.4        Yes   \n",
      "\n",
      "   RISK_MM RainTomorrow  \n",
      "0      3.6          Yes  \n",
      "1      3.6          Yes  \n",
      "2     39.8          Yes  \n",
      "3      2.8          Yes  \n",
      "4      0.0           No  \n",
      "\n",
      "[5 rows x 22 columns]\n"
     ]
    }
   ],
   "source": [
    "#Q1: Loading the data into pandas\n",
    "data = pd.read_csv(r\"C:\\Users\\91700\\OneDrive\\Desktop\\weather.csv\")\n",
    "print(data.head())"
   ]
  },
  {
   "cell_type": "code",
   "execution_count": 4,
   "id": "15fd881f-a3df-4287-acd8-bb0b4e0f16ba",
   "metadata": {},
   "outputs": [
    {
     "name": "stdout",
     "output_type": "stream",
     "text": [
      "Number of null values:\n",
      " MinTemp           0\n",
      "MaxTemp           0\n",
      "Rainfall          0\n",
      "Evaporation       0\n",
      "Sunshine          3\n",
      "WindGustDir       3\n",
      "WindGustSpeed     2\n",
      "WindDir9am       31\n",
      "WindDir3pm        1\n",
      "WindSpeed9am      7\n",
      "WindSpeed3pm      0\n",
      "Humidity9am       0\n",
      "Humidity3pm       0\n",
      "Pressure9am       0\n",
      "Pressure3pm       0\n",
      "Cloud9am          0\n",
      "Cloud3pm          0\n",
      "Temp9am           0\n",
      "Temp3pm           0\n",
      "RainToday         0\n",
      "RISK_MM           0\n",
      "RainTomorrow      0\n",
      "dtype: int64\n"
     ]
    }
   ],
   "source": [
    "#Q2: Number of null values\n",
    "null_counts = data.isnull().sum()\n",
    "print(\"Number of null values:\\n\", null_counts)"
   ]
  },
  {
   "cell_type": "code",
   "execution_count": 7,
   "id": "dc76d0fb-9444-4c66-a9a8-d86103c2a2ef",
   "metadata": {},
   "outputs": [
    {
     "name": "stdout",
     "output_type": "stream",
     "text": [
      "     MinTemp  MaxTemp  Rainfall  Evaporation  Sunshine WindGustDir  \\\n",
      "0        8.0     24.3       0.0          3.4       6.3          NW   \n",
      "1       14.0     26.9       3.6          4.4       9.7         ENE   \n",
      "2       13.7     23.4       3.6          5.8       3.3          NW   \n",
      "3       13.3     15.5      39.8          7.2       9.1          NW   \n",
      "4        7.6     16.1       2.8          5.6      10.6         SSE   \n",
      "..       ...      ...       ...          ...       ...         ...   \n",
      "361      9.0     30.7       0.0          7.6      12.1         NNW   \n",
      "362      7.1     28.4       0.0         11.6      12.7           N   \n",
      "363     12.5     19.9       0.0          8.4       5.3         ESE   \n",
      "364     12.5     26.9       0.0          5.0       7.1          NW   \n",
      "365     12.3     30.2       0.0          6.0      12.6          NW   \n",
      "\n",
      "     WindGustSpeed WindDir9am WindDir3pm  WindSpeed9am  ...  Humidity3pm  \\\n",
      "0             30.0         SW         NW           6.0  ...           29   \n",
      "1             39.0          E          W           4.0  ...           36   \n",
      "2             85.0          N        NNE           6.0  ...           69   \n",
      "3             54.0        WNW          W          30.0  ...           56   \n",
      "4             50.0        SSE        ESE          20.0  ...           49   \n",
      "..             ...        ...        ...           ...  ...          ...   \n",
      "361           76.0        SSE         NW           7.0  ...           15   \n",
      "362           48.0        NNW        NNW           2.0  ...           22   \n",
      "363           43.0        ENE        ENE          11.0  ...           47   \n",
      "364           46.0        SSW        WNW           6.0  ...           39   \n",
      "365           78.0         NW        WNW          31.0  ...           13   \n",
      "\n",
      "     Pressure9am  Pressure3pm  Cloud9am  Cloud3pm  Temp9am  Temp3pm  \\\n",
      "0         1019.7       1015.0         7         7     14.4     23.6   \n",
      "1         1012.4       1008.4         5         3     17.5     25.7   \n",
      "2         1009.5       1007.2         8         7     15.4     20.2   \n",
      "3         1005.5       1007.0         2         7     13.5     14.1   \n",
      "4         1018.3       1018.5         7         7     11.1     15.4   \n",
      "..           ...          ...       ...       ...      ...      ...   \n",
      "361       1016.1       1010.8         1         3     20.4     30.0   \n",
      "362       1020.0       1016.9         0         1     17.2     28.2   \n",
      "363       1024.0       1022.8         3         2     14.5     18.3   \n",
      "364       1021.0       1016.2         6         7     15.8     25.9   \n",
      "365       1009.6       1009.2         1         1     23.8     28.6   \n",
      "\n",
      "     RainToday  RISK_MM RainTomorrow  \n",
      "0           No      3.6          Yes  \n",
      "1          Yes      3.6          Yes  \n",
      "2          Yes     39.8          Yes  \n",
      "3          Yes      2.8          Yes  \n",
      "4          Yes      0.0           No  \n",
      "..         ...      ...          ...  \n",
      "361         No      0.0           No  \n",
      "362         No      0.0           No  \n",
      "363         No      0.0           No  \n",
      "364         No      0.0           No  \n",
      "365         No      0.0           No  \n",
      "\n",
      "[328 rows x 22 columns]\n"
     ]
    }
   ],
   "source": [
    "#Q3: Dropping null values\n",
    "data = data.dropna()\n",
    "print(data)"
   ]
  },
  {
   "cell_type": "code",
   "execution_count": 19,
   "id": "e731e6d9-9c65-4756-9f40-519232fb2f80",
   "metadata": {},
   "outputs": [
    {
     "name": "stdout",
     "output_type": "stream",
     "text": [
      "0      1\n",
      "1      1\n",
      "2      1\n",
      "3      1\n",
      "4      0\n",
      "      ..\n",
      "361    0\n",
      "362    0\n",
      "363    0\n",
      "364    0\n",
      "365    0\n",
      "Name: RainTomorrow, Length: 328, dtype: int64\n"
     ]
    }
   ],
   "source": [
    "#Q4: Label encoding string values\n",
    "label_columns = [\"WindGustDir\", \"WindDir9am\", \"WindDir3pm\",\"RainToday\", \"RainTomorrow\"]  \n",
    "label_encoder = LabelEncoder()\n",
    "\n",
    "for col in label_columns:\n",
    "    data[col] = label_encoder.fit_transform(data[col])\n",
    "print(data[col])\n"
   ]
  },
  {
   "cell_type": "code",
   "execution_count": 20,
   "id": "6a5e62dc-a046-45a4-b6da-6e1ab605bcde",
   "metadata": {},
   "outputs": [
    {
     "name": "stdout",
     "output_type": "stream",
     "text": [
      "     MinTemp  MaxTemp  Rainfall  Evaporation  Sunshine  WindGustDir  \\\n",
      "0        8.0     24.3       0.0          3.4       6.3            7   \n",
      "1       14.0     26.9       3.6          4.4       9.7            1   \n",
      "2       13.7     23.4       3.6          5.8       3.3            7   \n",
      "3       13.3     15.5      39.8          7.2       9.1            7   \n",
      "4        7.6     16.1       2.8          5.6      10.6           10   \n",
      "..       ...      ...       ...          ...       ...          ...   \n",
      "361      9.0     30.7       0.0          7.6      12.1            6   \n",
      "362      7.1     28.4       0.0         11.6      12.7            3   \n",
      "363     12.5     19.9       0.0          8.4       5.3            2   \n",
      "364     12.5     26.9       0.0          5.0       7.1            7   \n",
      "365     12.3     30.2       0.0          6.0      12.6            7   \n",
      "\n",
      "     WindGustSpeed  WindDir9am  WindDir3pm  WindSpeed9am  ...  Humidity3pm  \\\n",
      "0             30.0          12           7           6.0  ...           29   \n",
      "1             39.0           0          13           4.0  ...           36   \n",
      "2             85.0           3           5           6.0  ...           69   \n",
      "3             54.0          14          13          30.0  ...           56   \n",
      "4             50.0          10           2          20.0  ...           49   \n",
      "..             ...         ...         ...           ...  ...          ...   \n",
      "361           76.0          10           7           7.0  ...           15   \n",
      "362           48.0           6           6           2.0  ...           22   \n",
      "363           43.0           1           1          11.0  ...           47   \n",
      "364           46.0          11          14           6.0  ...           39   \n",
      "365           78.0           7          14          31.0  ...           13   \n",
      "\n",
      "     Pressure9am  Pressure3pm  Cloud9am  Cloud3pm  Temp9am  Temp3pm  \\\n",
      "0         1019.7       1015.0         7         7     14.4     23.6   \n",
      "1         1012.4       1008.4         5         3     17.5     25.7   \n",
      "2         1009.5       1007.2         8         7     15.4     20.2   \n",
      "3         1005.5       1007.0         2         7     13.5     14.1   \n",
      "4         1018.3       1018.5         7         7     11.1     15.4   \n",
      "..           ...          ...       ...       ...      ...      ...   \n",
      "361       1016.1       1010.8         1         3     20.4     30.0   \n",
      "362       1020.0       1016.9         0         1     17.2     28.2   \n",
      "363       1024.0       1022.8         3         2     14.5     18.3   \n",
      "364       1021.0       1016.2         6         7     15.8     25.9   \n",
      "365       1009.6       1009.2         1         1     23.8     28.6   \n",
      "\n",
      "     RainToday  RISK_MM  RainTomorrow  \n",
      "0            0      3.6             1  \n",
      "1            1      3.6             1  \n",
      "2            1     39.8             1  \n",
      "3            1      2.8             1  \n",
      "4            1      0.0             0  \n",
      "..         ...      ...           ...  \n",
      "361          0      0.0             0  \n",
      "362          0      0.0             0  \n",
      "363          0      0.0             0  \n",
      "364          0      0.0             0  \n",
      "365          0      0.0             0  \n",
      "\n",
      "[328 rows x 22 columns]\n"
     ]
    }
   ],
   "source": [
    "#Q5: Converting string values to numbers\n",
    "numeric_columns = data.select_dtypes(include=['number']).columns\n",
    "data_numeric = data[numeric_columns]\n",
    "print(data_numeric)"
   ]
  },
  {
   "cell_type": "code",
   "execution_count": 60,
   "id": "404e1844-f7ac-4be8-9b21-231b94b599d4",
   "metadata": {},
   "outputs": [
    {
     "name": "stdout",
     "output_type": "stream",
     "text": [
      "[[0.50763359 0.59219858 0.         ... 0.         0.09045226 1.        ]\n",
      " [0.73664122 0.68439716 0.09045226 ... 1.         0.09045226 1.        ]\n",
      " [0.72519084 0.56028369 0.09045226 ... 1.         1.         1.        ]\n",
      " ...\n",
      " [0.67938931 0.43617021 0.         ... 0.         0.         0.        ]\n",
      " [0.67938931 0.68439716 0.         ... 0.         0.         0.        ]\n",
      " [0.67175573 0.80141844 0.         ... 0.         0.         0.        ]]\n"
     ]
    }
   ],
   "source": [
    "#Q6: Applying MinMax scaler\n",
    "scaler = MinMaxScaler()\n",
    "data_scaled = scaler.fit_transform(data_numeric)\n",
    "print(data_scaled)"
   ]
  },
  {
   "cell_type": "code",
   "execution_count": 85,
   "id": "148a58db-b146-430f-815f-93df0ee9b6ef",
   "metadata": {},
   "outputs": [],
   "source": [
    "features = ['MinTemp', 'MaxTemp', 'Rainfall', 'Evaporation', 'Sunshine',\n",
    "                   'WindGustSpeed', 'WindSpeed9am', 'WindSpeed3pm',\n",
    "                   'Humidity9am', 'Humidity3pm', 'Pressure9am', 'Pressure3pm',\n",
    "                   'Cloud9am', 'Cloud3pm', 'Temp9am', 'Temp3pm']\n",
    "\n",
    "target= 'RainTomorrow'\n",
    "\n",
    "X = data[features]\n",
    "y = data[target]"
   ]
  },
  {
   "cell_type": "code",
   "execution_count": 86,
   "id": "e6d326f6-f3ab-446e-8f42-2cd7432ca9c3",
   "metadata": {},
   "outputs": [
    {
     "name": "stdout",
     "output_type": "stream",
     "text": [
      "R2 value without cross-validation: 0.4398775191444345\n"
     ]
    }
   ],
   "source": [
    "#Q7: Applying Linear regression\n",
    "linear_reg_model.fit(X, y)\n",
    "y_pred = linear_reg_model.predict(X)\n",
    "\n",
    "#Q8: r2 score\n",
    "r2_original = r2_score(y, y_pred)\n",
    "print(\"R2 value without cross-validation:\", r2_original)"
   ]
  },
  {
   "cell_type": "code",
   "execution_count": 90,
   "id": "5287ad94-2e28-4080-ad77-3963501afe78",
   "metadata": {},
   "outputs": [
    {
     "name": "stdout",
     "output_type": "stream",
     "text": [
      "[ 0.23361064  0.24657374  0.58458409 -0.16249807  0.49897211  0.44872029]\n"
     ]
    }
   ],
   "source": [
    "#Q9:\n",
    "cv_scores=cross_val_score(linear_reg_model,X,y,cv=6,scoring='r2')\n",
    "print(cv_scores)"
   ]
  },
  {
   "cell_type": "code",
   "execution_count": null,
   "id": "37a67313-dc96-4481-9771-21a00fc5d205",
   "metadata": {},
   "outputs": [],
   "source": []
  },
  {
   "cell_type": "code",
   "execution_count": null,
   "id": "25080391-e453-4421-84be-69fa9d5de3a0",
   "metadata": {},
   "outputs": [],
   "source": []
  }
 ],
 "metadata": {
  "kernelspec": {
   "display_name": "Python 3 (ipykernel)",
   "language": "python",
   "name": "python3"
  },
  "language_info": {
   "codemirror_mode": {
    "name": "ipython",
    "version": 3
   },
   "file_extension": ".py",
   "mimetype": "text/x-python",
   "name": "python",
   "nbconvert_exporter": "python",
   "pygments_lexer": "ipython3",
   "version": "3.10.2"
  }
 },
 "nbformat": 4,
 "nbformat_minor": 5
}
